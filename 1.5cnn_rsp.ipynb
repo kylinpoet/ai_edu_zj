{
 "cells": [
  {
   "cell_type": "markdown",
   "metadata": {},
   "source": [
    "# 1.5深度学习实践活动"
   ]
  },
  {
   "cell_type": "markdown",
   "metadata": {},
   "source": [
    "## 一、实践活动\n",
    "1. 体验卷积神经网络模型训练的一般过程。\n",
    "2. 利用训练好的模型，对新数据进行预测。\n",
    "\n",
    "### 知识链接：\n",
    "- 卷积神经网络模型"
   ]
  },
  {
   "cell_type": "markdown",
   "metadata": {},
   "source": [
    "## 二、实验准备\n",
    "- 已经预处理并分类的包含石头剪刀布图片的三个文件夹\n",
    "\n",
    "### 知识链接：\n",
    "- 数据增强(data_Augmentation)：Keras的ImageDataGenerator函数"
   ]
  },
  {
   "cell_type": "markdown",
   "metadata": {},
   "source": [
    "## 三、实验步骤\n",
    "### 第一步，导入相关库，并进行设置"
   ]
  },
  {
   "cell_type": "code",
   "execution_count": 11,
   "metadata": {},
   "outputs": [],
   "source": [
    "import tensorflow as tf\n",
    "from keras_preprocessing.image import ImageDataGenerator\n",
    "from keras_preprocessing import image\n",
    "from tensorflow.keras.layers import Conv2D, MaxPooling2D, Flatten, Dropout, Dense\n",
    "class_names = ['rock', 'scissors', 'paper']\n",
    "class_names_chn = ['石头', '剪刀', '布']\n",
    "img_width, img_height = 300, 200"
   ]
  },
  {
   "cell_type": "markdown",
   "metadata": {},
   "source": [
    "### 第二步，构造卷积神经网络模型，进行石头、剪刀、布三分类"
   ]
  },
  {
   "cell_type": "code",
   "execution_count": null,
   "metadata": {},
   "outputs": [],
   "source": [
    "def train_rps():\n",
    "    \n",
    "    # 构造图片读取的实例\n",
    "    train_data_gen = ImageDataGenerator(\n",
    "        rescale=1. / 255,\n",
    "        rotation_range=40,\n",
    "        width_shift_range=0.3,\n",
    "        height_shift_range=0.3,\n",
    "        shear_range=0.3,\n",
    "        zoom_range=0.3,\n",
    "        horizontal_flip=True,\n",
    "        fill_mode='nearest')\n",
    "    test_data_gen = ImageDataGenerator(rescale=1. / 255)\n",
    "    \n",
    "    # 训练数据集和测试数据集直接从相应文件夹获取，\n",
    "    # 需要注意的是，不同的图片要访问相应的分类文件夹里\n",
    "    # 如代表 石头 的图片应该放在 rock/子文件夹里\n",
    "    train_datas = train_data_gen.flow_from_directory(\n",
    "        \"data/rsp/\",\n",
    "        target_size=(img_width, img_height),\n",
    "        class_mode='categorical',\n",
    "        classes=class_names\n",
    "    )\n",
    "    test_datas = test_data_gen.flow_from_directory(\n",
    "        \"data/rsp-test/\",\n",
    "        target_size=(img_width, img_height),\n",
    "        class_mode='categorical',\n",
    "        classes=class_names\n",
    "    )\n",
    "    # 卷积神经网络模型，可根据训练结果进行相应调参\n",
    "    model = tf.keras.models.Sequential([\n",
    "        Conv2D(64, (3, 3), activation='relu', input_shape=(img_width, img_height, 3)),\n",
    "        MaxPooling2D(2, 2),\n",
    "        Conv2D(64, (3, 3), activation='relu'),\n",
    "        MaxPooling2D(2, 2),\n",
    "        Conv2D(128, (3, 3), activation='relu'),\n",
    "        MaxPooling2D(2, 2),\n",
    "        Conv2D(128, (3, 3), activation='relu'),\n",
    "        MaxPooling2D(2, 2),\n",
    "        Flatten(),\n",
    "        Dropout(0.5),\n",
    "        Dense(512, activation='relu'),\n",
    "        Dense(3, activation='softmax')\n",
    "    ])\n",
    "    model.summary()\n",
    "    model.compile(loss='categorical_crossentropy', optimizer='rmsprop', metrics=['accuracy'])\n",
    "    history = model.fit(train_datas, epochs=25, validation_data=test_datas, verbose=1)\n",
    "    # 保存训练好的模型，下次就不用再训练了\n",
    "    model.save(\"rsp.h5\")\n",
    "\n",
    "# 第一次运行可以先进行训练，下次就可直接使用\n",
    "train_rps()"
   ]
  },
  {
   "cell_type": "markdown",
   "metadata": {},
   "source": [
    "### 第三步，导入训练好的模型进行预测"
   ]
  },
  {
   "cell_type": "code",
   "execution_count": null,
   "metadata": {},
   "outputs": [],
   "source": [
    "import matplotlib.pyplot as plt\n",
    "import numpy as np\n",
    "# 选择需要识别的图片\n",
    "# 用摄像头或者手机拍摄图片，如果没有的话直接找一张图片即可\n",
    "img = image.load_img('rock.jpg', target_size=(img_height, img_width))\n",
    "plt.figure('Image Show', dpi=300)\n",
    "plt.axis('off')\n",
    "plt.imshow(img)\n",
    "x = image.img_to_array(img)\n",
    "x = x/255.0\n",
    "x = np.expand_dims(x, axis=0)\n",
    "# pil_im = (255-pil_im)/255.0\n",
    "# pil_im = pil_im.reshape(-1, img_width, img_height,3)/255.0\n",
    "# 导入训练好的模型\n",
    "model = tf.keras.models.load_model('rsp.h5')\n",
    "pred = model.predict(x)\n",
    "pred_label = np.argmax(pred[0])\n",
    "print(f\"预测为: {class_names_chn[int(pred_label)]}\")"
   ]
  },
  {
   "cell_type": "markdown",
   "metadata": {},
   "source": [
    "## 思考与讨论\n",
    "1. 试改变剪刀石头布不同目录下的图片数量，是否对模型的准确度造成影响？\n",
    "2. 修改卷积神经网络的不同参数，使得模型准确度更高。"
   ]
  }
 ],
 "metadata": {
  "kernelspec": {
   "display_name": "Python 3",
   "language": "python",
   "name": "python3"
  },
  "language_info": {
   "codemirror_mode": {
    "name": "ipython",
    "version": 3
   },
   "file_extension": ".py",
   "mimetype": "text/x-python",
   "name": "python",
   "nbconvert_exporter": "python",
   "pygments_lexer": "ipython3",
   "version": "3.7.4"
  }
 },
 "nbformat": 4,
 "nbformat_minor": 2
}